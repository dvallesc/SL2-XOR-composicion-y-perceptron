{
  "nbformat": 4,
  "nbformat_minor": 0,
  "metadata": {
    "colab": {
      "name": "XOR con composición y perceptrones -20003022.ipynb",
      "provenance": []
    },
    "kernelspec": {
      "name": "python3",
      "display_name": "Python 3"
    }
  },
  "cells": [
    {
      "cell_type": "markdown",
      "metadata": {
        "id": "7yAXgsl9dXXp",
        "colab_type": "text"
      },
      "source": [
        "Diego Fernando Valle Morales\n",
        "\n",
        "20003022"
      ]
    },
    {
      "cell_type": "code",
      "metadata": {
        "id": "kwESR70IMQs8",
        "colab_type": "code",
        "colab": {
          "base_uri": "https://localhost:8080/",
          "height": 34
        },
        "outputId": "8b633c53-6a1e-4e82-d48c-0a073698b61c"
      },
      "source": [
        "def operacion_not(x1):\n",
        "  parametros = [-1 , 1 ]\n",
        "\n",
        "  return  int(x1*parametros[0]  +  parametros[1]>0)\n",
        "\n",
        "testx = 0\n",
        "\n",
        "operacion_not(testx)"
      ],
      "execution_count": 7,
      "outputs": [
        {
          "output_type": "execute_result",
          "data": {
            "text/plain": [
              "1"
            ]
          },
          "metadata": {
            "tags": []
          },
          "execution_count": 7
        }
      ]
    },
    {
      "cell_type": "code",
      "metadata": {
        "id": "NQWMY-_vMqgx",
        "colab_type": "code",
        "colab": {
          "base_uri": "https://localhost:8080/",
          "height": 34
        },
        "outputId": "f89bea37-7185-4b60-93c8-57a5d1581bdb"
      },
      "source": [
        "def  operacion_or(x1,x2):\n",
        "  parametros = [1,1,0]\n",
        "\n",
        "  return  int(x1*parametros[0]  + x2*parametros[1] + parametros[2] > 0)\n",
        "\n",
        "testx1 = 1\n",
        "testx2 = 1\n",
        "\n",
        "operacion_or(testx1,testx2)"
      ],
      "execution_count": 8,
      "outputs": [
        {
          "output_type": "execute_result",
          "data": {
            "text/plain": [
              "1"
            ]
          },
          "metadata": {
            "tags": []
          },
          "execution_count": 8
        }
      ]
    },
    {
      "cell_type": "code",
      "metadata": {
        "id": "5D-YWRCHOR-6",
        "colab_type": "code",
        "colab": {
          "base_uri": "https://localhost:8080/",
          "height": 34
        },
        "outputId": "a42a431f-e07d-4938-e1da-84ae5e54fecd"
      },
      "source": [
        "def  operacion_and(x1,x2):\n",
        "  parametros = [1,1,-1]\n",
        "\n",
        "  return  int(x1*parametros[0]  + x2*parametros[1] + parametros[2] > 0)\n",
        "\n",
        "testx1 = 0\n",
        "testx2 = 1\n",
        "\n",
        "operacion_and(testx1,testx2)"
      ],
      "execution_count": 9,
      "outputs": [
        {
          "output_type": "execute_result",
          "data": {
            "text/plain": [
              "0"
            ]
          },
          "metadata": {
            "tags": []
          },
          "execution_count": 9
        }
      ]
    },
    {
      "cell_type": "code",
      "metadata": {
        "id": "zWn-N5uMO9JR",
        "colab_type": "code",
        "colab": {
          "base_uri": "https://localhost:8080/",
          "height": 34
        },
        "outputId": "4dfd004b-117a-4fc7-fa8a-6a175d54fa56"
      },
      "source": [
        "def operacion_xor(x1,x2):\n",
        "  temp1 = operacion_and(x1,x2)\n",
        "  temp2 = operacion_or(x1,x2)\n",
        "\n",
        "  nand_temp = operacion_not(temp1)\n",
        "\n",
        "  temp_3 = operacion_and(nand_temp,temp2)\n",
        "\n",
        "  return temp_3\n",
        "\n",
        "testx1 = 1\n",
        "testx2 = 1\n",
        "\n",
        "operacion_xor(testx1,testx2)"
      ],
      "execution_count": 10,
      "outputs": [
        {
          "output_type": "execute_result",
          "data": {
            "text/plain": [
              "0"
            ]
          },
          "metadata": {
            "tags": []
          },
          "execution_count": 10
        }
      ]
    },
    {
      "cell_type": "code",
      "metadata": {
        "id": "T_H-LmMiQdxP",
        "colab_type": "code",
        "colab": {
          "base_uri": "https://localhost:8080/",
          "height": 34
        },
        "outputId": "5f25125d-7622-495e-ce92-b4a0d26e0726"
      },
      "source": [
        "testx1 = 0\n",
        "testx2 = 1\n",
        "\n",
        "operacion_xor(testx1,testx2)"
      ],
      "execution_count": 25,
      "outputs": [
        {
          "output_type": "execute_result",
          "data": {
            "text/plain": [
              "1"
            ]
          },
          "metadata": {
            "tags": []
          },
          "execution_count": 25
        }
      ]
    },
    {
      "cell_type": "markdown",
      "metadata": {
        "id": "5sgDmMoe_dzR",
        "colab_type": "text"
      },
      "source": [
        "Entrenando un perceptron AND"
      ]
    },
    {
      "cell_type": "code",
      "metadata": {
        "id": "LXc1mJSy_m78",
        "colab_type": "code",
        "colab": {}
      },
      "source": [
        "import numpy as np\n",
        "import pandas as pd"
      ],
      "execution_count": 11,
      "outputs": []
    },
    {
      "cell_type": "code",
      "metadata": {
        "id": "qoSGdap61T2n",
        "colab_type": "code",
        "colab": {}
      },
      "source": [
        "class Perceptron(object):\n",
        "\n",
        "    def __init__(self, no_of_inputs, threshold=100, learning_rate=0.01):\n",
        "        self.threshold = threshold\n",
        "        self.learning_rate = learning_rate\n",
        "        self.weights = np.zeros(no_of_inputs + 1)\n",
        "           \n",
        "    def predict(self, inputs):\n",
        "        summation = np.dot(inputs, self.weights[1:]) + self.weights[0]\n",
        "        if summation > 0:\n",
        "          activation = 1\n",
        "        else:\n",
        "          activation = 0            \n",
        "        return activation\n",
        "\n",
        "    def train(self, training_inputs, labels):\n",
        "        for _ in range(self.threshold):\n",
        "            for inputs, label in zip(training_inputs, labels):\n",
        "                prediction = self.predict(inputs)\n",
        "                self.weights[1:] += self.learning_rate * (label - prediction) * inputs\n",
        "                self.weights[0] += self.learning_rate * (label - prediction)"
      ],
      "execution_count": 12,
      "outputs": []
    },
    {
      "cell_type": "code",
      "metadata": {
        "id": "pfAe6d3oZOLs",
        "colab_type": "code",
        "colab": {
          "base_uri": "https://localhost:8080/",
          "height": 34
        },
        "outputId": "63f986eb-9d27-4f32-aa6b-d17659a1729d"
      },
      "source": [
        "training_inputs = []\n",
        "training_inputs.append(np.array([1, 1]))\n",
        "training_inputs.append(np.array([1, 0]))\n",
        "training_inputs.append(np.array([0, 1]))\n",
        "training_inputs.append(np.array([0, 0]))\n",
        "\n",
        "labels = np.array([1, 0, 0, 0])\n",
        "\n",
        "perceptron = Perceptron(2)\n",
        "perceptron.train(training_inputs, labels)\n",
        "\n",
        "inputs = np.array([0, 1])\n",
        "perceptron.predict(inputs) "
      ],
      "execution_count": 15,
      "outputs": [
        {
          "output_type": "execute_result",
          "data": {
            "text/plain": [
              "0"
            ]
          },
          "metadata": {
            "tags": []
          },
          "execution_count": 15
        }
      ]
    },
    {
      "cell_type": "code",
      "metadata": {
        "id": "M386b4SmZ_CF",
        "colab_type": "code",
        "colab": {
          "base_uri": "https://localhost:8080/",
          "height": 34
        },
        "outputId": "153a735f-ba58-4c16-8976-800f8c945a4f"
      },
      "source": [
        "inputs = np.array([1, 1])\n",
        "perceptron.predict(inputs) \n",
        "#=> 1"
      ],
      "execution_count": 16,
      "outputs": [
        {
          "output_type": "execute_result",
          "data": {
            "text/plain": [
              "1"
            ]
          },
          "metadata": {
            "tags": []
          },
          "execution_count": 16
        }
      ]
    },
    {
      "cell_type": "markdown",
      "metadata": {
        "id": "tpaOtXhMayEM",
        "colab_type": "text"
      },
      "source": [
        "Perceptrón OR"
      ]
    },
    {
      "cell_type": "code",
      "metadata": {
        "id": "05FsIC2qaIol",
        "colab_type": "code",
        "colab": {
          "base_uri": "https://localhost:8080/",
          "height": 34
        },
        "outputId": "05b64eea-4281-485b-d491-01830901180b"
      },
      "source": [
        "training_inputsOR = []\n",
        "training_inputsOR.append(np.array([1, 1]))\n",
        "training_inputsOR.append(np.array([1, 0]))\n",
        "training_inputsOR.append(np.array([0, 1]))\n",
        "training_inputsOR.append(np.array([0, 0]))\n",
        "\n",
        "labelsOR = np.array([1, 1, 1, 0])\n",
        "\n",
        "perceptronOR = Perceptron(2)\n",
        "perceptronOR.train(training_inputsOR, labelsOR)\n",
        "\n",
        "inputsOR = np.array([0, 1])\n",
        "perceptronOR.predict(inputsOR)"
      ],
      "execution_count": 17,
      "outputs": [
        {
          "output_type": "execute_result",
          "data": {
            "text/plain": [
              "1"
            ]
          },
          "metadata": {
            "tags": []
          },
          "execution_count": 17
        }
      ]
    },
    {
      "cell_type": "code",
      "metadata": {
        "id": "dlqhIFAub7I1",
        "colab_type": "code",
        "colab": {
          "base_uri": "https://localhost:8080/",
          "height": 34
        },
        "outputId": "68c69f42-7de0-44c4-b0ce-8192162f50d3"
      },
      "source": [
        "inputsOR = np.array([1, 1])\n",
        "perceptronOR.predict(inputsOR)"
      ],
      "execution_count": 18,
      "outputs": [
        {
          "output_type": "execute_result",
          "data": {
            "text/plain": [
              "1"
            ]
          },
          "metadata": {
            "tags": []
          },
          "execution_count": 18
        }
      ]
    },
    {
      "cell_type": "code",
      "metadata": {
        "id": "Oxgm8jAwb_Z_",
        "colab_type": "code",
        "colab": {
          "base_uri": "https://localhost:8080/",
          "height": 34
        },
        "outputId": "c1cbf04c-aa0f-49cd-8f92-dd8bd75ab75e"
      },
      "source": [
        "inputsOR = np.array([0, 0])\n",
        "perceptronOR.predict(inputsOR)"
      ],
      "execution_count": 19,
      "outputs": [
        {
          "output_type": "execute_result",
          "data": {
            "text/plain": [
              "0"
            ]
          },
          "metadata": {
            "tags": []
          },
          "execution_count": 19
        }
      ]
    },
    {
      "cell_type": "markdown",
      "metadata": {
        "id": "AqGqYQcUcCv3",
        "colab_type": "text"
      },
      "source": [
        "Implementando XOR con perceptrones"
      ]
    },
    {
      "cell_type": "code",
      "metadata": {
        "id": "4UCoRfGDcJjI",
        "colab_type": "code",
        "colab": {
          "base_uri": "https://localhost:8080/",
          "height": 34
        },
        "outputId": "b932a0c4-2d14-4fe7-b35a-8dbc54a7fbfd"
      },
      "source": [
        "def operacion_xorPerceptron(x1,x2):\n",
        "  temp1 = perceptron.predict([x1,x2])\n",
        "  temp2 = perceptronOR.predict([x1,x2])\n",
        "\n",
        "  nand_temp = operacion_not(temp1)\n",
        "\n",
        "  temp_3 = perceptron.predict([nand_temp,temp2])\n",
        "\n",
        "  return temp_3\n",
        "\n",
        "testx1 = 1\n",
        "testx2 = 1\n",
        "\n",
        "operacion_xorPerceptron(testx1,testx2)"
      ],
      "execution_count": 22,
      "outputs": [
        {
          "output_type": "execute_result",
          "data": {
            "text/plain": [
              "0"
            ]
          },
          "metadata": {
            "tags": []
          },
          "execution_count": 22
        }
      ]
    },
    {
      "cell_type": "code",
      "metadata": {
        "id": "TMRoZtLJdCR0",
        "colab_type": "code",
        "colab": {
          "base_uri": "https://localhost:8080/",
          "height": 34
        },
        "outputId": "91724c33-37bb-4d61-b650-cb8de8cf9fac"
      },
      "source": [
        "testx1 = 0\n",
        "testx2 = 1\n",
        "\n",
        "operacion_xorPerceptron(testx1,testx2)"
      ],
      "execution_count": 23,
      "outputs": [
        {
          "output_type": "execute_result",
          "data": {
            "text/plain": [
              "1"
            ]
          },
          "metadata": {
            "tags": []
          },
          "execution_count": 23
        }
      ]
    },
    {
      "cell_type": "code",
      "metadata": {
        "id": "cwY9AESNdTUq",
        "colab_type": "code",
        "colab": {
          "base_uri": "https://localhost:8080/",
          "height": 34
        },
        "outputId": "71a7e28f-4278-4d02-e6c0-dbfd4d9f8553"
      },
      "source": [
        "testx1 = 0\n",
        "testx2 = 0\n",
        "\n",
        "operacion_xorPerceptron(testx1,testx2)"
      ],
      "execution_count": 24,
      "outputs": [
        {
          "output_type": "execute_result",
          "data": {
            "text/plain": [
              "0"
            ]
          },
          "metadata": {
            "tags": []
          },
          "execution_count": 24
        }
      ]
    }
  ]
}